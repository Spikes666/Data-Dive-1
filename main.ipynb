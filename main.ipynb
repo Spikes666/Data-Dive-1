{
 "cells": [
  {
   "cell_type": "code",
   "execution_count": 1,
   "id": "initial_id",
   "metadata": {
    "collapsed": true,
    "ExecuteTime": {
     "end_time": "2023-10-19T14:19:28.517541Z",
     "start_time": "2023-10-19T14:19:26.572532Z"
    }
   },
   "outputs": [],
   "source": [
    "import pandas as pd\n",
    "import seaborn as sns\n",
    "import matplotlib.pyplot as plt\n",
    "plt.style.use('fivethirtyeight')\n",
    "%matplotlib inline\n",
    "\n",
    "from sklearn.model_selection import train_test_split\n",
    "from sklearn.preprocessing import StandardScaler\n",
    "\n",
    "pd.set_option('display.max_columns',200) #allows for up to 500 columns to be displayed when viewing a dataframe\n",
    "pd.set_option('display.max_rows',100)\n",
    "plt.style.use('ggplot') # a style that can be used for plots - see style reference above\n",
    "\n",
    "import warnings\n",
    "warnings.filterwarnings(\"ignore\", category=DeprecationWarning)\n",
    "\n",
    "\n",
    "from sklearn.metrics import mean_squared_error, mean_absolute_error, mean_absolute_percentage_error, r2_score\n",
    "import numpy as np\n",
    "from sklearn.linear_model import Lasso\n",
    "from sklearn.linear_model import Ridge\n",
    "from sklearn.model_selection import GridSearchCV\n",
    "import matplotlib.pyplot as plt\n",
    "import os\n",
    "\n"
   ]
  },
  {
   "cell_type": "code",
   "execution_count": 2,
   "outputs": [
    {
     "data": {
      "text/plain": "'/Users/nicksartino/Code/Data-Dive-1'"
     },
     "execution_count": 2,
     "metadata": {},
     "output_type": "execute_result"
    }
   ],
   "source": [
    "os.getcwd()"
   ],
   "metadata": {
    "collapsed": false,
    "ExecuteTime": {
     "end_time": "2023-10-19T14:19:30.480205Z",
     "start_time": "2023-10-19T14:19:30.461179Z"
    }
   },
   "id": "bb44570b7e112bee"
  },
  {
   "cell_type": "code",
   "execution_count": 3,
   "outputs": [
    {
     "name": "stdout",
     "output_type": "stream",
     "text": [
      "<class 'pandas.core.frame.DataFrame'>\n",
      "Index: 309 entries, M to M\n",
      "Data columns (total 15 columns):\n",
      " #   Column                 Non-Null Count  Dtype \n",
      "---  ------                 --------------  ----- \n",
      " 0   AGE                    309 non-null    int64 \n",
      " 1   SMOKING                309 non-null    int64 \n",
      " 2   YELLOW_FINGERS         309 non-null    int64 \n",
      " 3   ANXIETY                309 non-null    int64 \n",
      " 4   PEER_PRESSURE          309 non-null    int64 \n",
      " 5   CHRONIC DISEASE        309 non-null    int64 \n",
      " 6   FATIGUE                309 non-null    int64 \n",
      " 7   ALLERGY                309 non-null    int64 \n",
      " 8   WHEEZING               309 non-null    int64 \n",
      " 9   ALCOHOL CONSUMING      309 non-null    int64 \n",
      " 10  COUGHING               309 non-null    int64 \n",
      " 11  SHORTNESS OF BREATH    309 non-null    int64 \n",
      " 12  SWALLOWING DIFFICULTY  309 non-null    int64 \n",
      " 13  CHEST PAIN             309 non-null    int64 \n",
      " 14  LUNG_CANCER            309 non-null    object\n",
      "dtypes: int64(14), object(1)\n",
      "memory usage: 38.6+ KB\n"
     ]
    }
   ],
   "source": [
    "df = pd.read_csv('survey lung cancer.csv', index_col=[0])\n",
    "df.info()"
   ],
   "metadata": {
    "collapsed": false,
    "ExecuteTime": {
     "end_time": "2023-10-19T14:19:33.111851Z",
     "start_time": "2023-10-19T14:19:33.087141Z"
    }
   },
   "id": "9d9692c646b157f2"
  },
  {
   "cell_type": "code",
   "execution_count": 4,
   "outputs": [
    {
     "data": {
      "text/plain": "              AGE     SMOKING  YELLOW_FINGERS     ANXIETY  PEER_PRESSURE  \\\ncount  309.000000  309.000000      309.000000  309.000000     309.000000   \nmean    62.673139    1.563107        1.569579    1.498382       1.501618   \nstd      8.210301    0.496806        0.495938    0.500808       0.500808   \nmin     21.000000    1.000000        1.000000    1.000000       1.000000   \n25%     57.000000    1.000000        1.000000    1.000000       1.000000   \n50%     62.000000    2.000000        2.000000    1.000000       2.000000   \n75%     69.000000    2.000000        2.000000    2.000000       2.000000   \nmax     87.000000    2.000000        2.000000    2.000000       2.000000   \n\n       CHRONIC DISEASE    FATIGUE     ALLERGY     WHEEZING  ALCOHOL CONSUMING  \\\ncount       309.000000  309.000000  309.000000  309.000000         309.000000   \nmean          1.504854    1.673139    1.556634    1.556634           1.556634   \nstd           0.500787    0.469827    0.497588    0.497588           0.497588   \nmin           1.000000    1.000000    1.000000    1.000000           1.000000   \n25%           1.000000    1.000000    1.000000    1.000000           1.000000   \n50%           2.000000    2.000000    2.000000    2.000000           2.000000   \n75%           2.000000    2.000000    2.000000    2.000000           2.000000   \nmax           2.000000    2.000000    2.000000    2.000000           2.000000   \n\n         COUGHING  SHORTNESS OF BREATH  SWALLOWING DIFFICULTY  CHEST PAIN  \ncount  309.000000           309.000000             309.000000  309.000000  \nmean     1.579288             1.640777               1.469256    1.556634  \nstd      0.494474             0.480551               0.499863    0.497588  \nmin      1.000000             1.000000               1.000000    1.000000  \n25%      1.000000             1.000000               1.000000    1.000000  \n50%      2.000000             2.000000               1.000000    2.000000  \n75%      2.000000             2.000000               2.000000    2.000000  \nmax      2.000000             2.000000               2.000000    2.000000  ",
      "text/html": "<div>\n<style scoped>\n    .dataframe tbody tr th:only-of-type {\n        vertical-align: middle;\n    }\n\n    .dataframe tbody tr th {\n        vertical-align: top;\n    }\n\n    .dataframe thead th {\n        text-align: right;\n    }\n</style>\n<table border=\"1\" class=\"dataframe\">\n  <thead>\n    <tr style=\"text-align: right;\">\n      <th></th>\n      <th>AGE</th>\n      <th>SMOKING</th>\n      <th>YELLOW_FINGERS</th>\n      <th>ANXIETY</th>\n      <th>PEER_PRESSURE</th>\n      <th>CHRONIC DISEASE</th>\n      <th>FATIGUE</th>\n      <th>ALLERGY</th>\n      <th>WHEEZING</th>\n      <th>ALCOHOL CONSUMING</th>\n      <th>COUGHING</th>\n      <th>SHORTNESS OF BREATH</th>\n      <th>SWALLOWING DIFFICULTY</th>\n      <th>CHEST PAIN</th>\n    </tr>\n  </thead>\n  <tbody>\n    <tr>\n      <th>count</th>\n      <td>309.000000</td>\n      <td>309.000000</td>\n      <td>309.000000</td>\n      <td>309.000000</td>\n      <td>309.000000</td>\n      <td>309.000000</td>\n      <td>309.000000</td>\n      <td>309.000000</td>\n      <td>309.000000</td>\n      <td>309.000000</td>\n      <td>309.000000</td>\n      <td>309.000000</td>\n      <td>309.000000</td>\n      <td>309.000000</td>\n    </tr>\n    <tr>\n      <th>mean</th>\n      <td>62.673139</td>\n      <td>1.563107</td>\n      <td>1.569579</td>\n      <td>1.498382</td>\n      <td>1.501618</td>\n      <td>1.504854</td>\n      <td>1.673139</td>\n      <td>1.556634</td>\n      <td>1.556634</td>\n      <td>1.556634</td>\n      <td>1.579288</td>\n      <td>1.640777</td>\n      <td>1.469256</td>\n      <td>1.556634</td>\n    </tr>\n    <tr>\n      <th>std</th>\n      <td>8.210301</td>\n      <td>0.496806</td>\n      <td>0.495938</td>\n      <td>0.500808</td>\n      <td>0.500808</td>\n      <td>0.500787</td>\n      <td>0.469827</td>\n      <td>0.497588</td>\n      <td>0.497588</td>\n      <td>0.497588</td>\n      <td>0.494474</td>\n      <td>0.480551</td>\n      <td>0.499863</td>\n      <td>0.497588</td>\n    </tr>\n    <tr>\n      <th>min</th>\n      <td>21.000000</td>\n      <td>1.000000</td>\n      <td>1.000000</td>\n      <td>1.000000</td>\n      <td>1.000000</td>\n      <td>1.000000</td>\n      <td>1.000000</td>\n      <td>1.000000</td>\n      <td>1.000000</td>\n      <td>1.000000</td>\n      <td>1.000000</td>\n      <td>1.000000</td>\n      <td>1.000000</td>\n      <td>1.000000</td>\n    </tr>\n    <tr>\n      <th>25%</th>\n      <td>57.000000</td>\n      <td>1.000000</td>\n      <td>1.000000</td>\n      <td>1.000000</td>\n      <td>1.000000</td>\n      <td>1.000000</td>\n      <td>1.000000</td>\n      <td>1.000000</td>\n      <td>1.000000</td>\n      <td>1.000000</td>\n      <td>1.000000</td>\n      <td>1.000000</td>\n      <td>1.000000</td>\n      <td>1.000000</td>\n    </tr>\n    <tr>\n      <th>50%</th>\n      <td>62.000000</td>\n      <td>2.000000</td>\n      <td>2.000000</td>\n      <td>1.000000</td>\n      <td>2.000000</td>\n      <td>2.000000</td>\n      <td>2.000000</td>\n      <td>2.000000</td>\n      <td>2.000000</td>\n      <td>2.000000</td>\n      <td>2.000000</td>\n      <td>2.000000</td>\n      <td>1.000000</td>\n      <td>2.000000</td>\n    </tr>\n    <tr>\n      <th>75%</th>\n      <td>69.000000</td>\n      <td>2.000000</td>\n      <td>2.000000</td>\n      <td>2.000000</td>\n      <td>2.000000</td>\n      <td>2.000000</td>\n      <td>2.000000</td>\n      <td>2.000000</td>\n      <td>2.000000</td>\n      <td>2.000000</td>\n      <td>2.000000</td>\n      <td>2.000000</td>\n      <td>2.000000</td>\n      <td>2.000000</td>\n    </tr>\n    <tr>\n      <th>max</th>\n      <td>87.000000</td>\n      <td>2.000000</td>\n      <td>2.000000</td>\n      <td>2.000000</td>\n      <td>2.000000</td>\n      <td>2.000000</td>\n      <td>2.000000</td>\n      <td>2.000000</td>\n      <td>2.000000</td>\n      <td>2.000000</td>\n      <td>2.000000</td>\n      <td>2.000000</td>\n      <td>2.000000</td>\n      <td>2.000000</td>\n    </tr>\n  </tbody>\n</table>\n</div>"
     },
     "execution_count": 4,
     "metadata": {},
     "output_type": "execute_result"
    }
   ],
   "source": [
    "df.describe()"
   ],
   "metadata": {
    "collapsed": false,
    "ExecuteTime": {
     "end_time": "2023-10-19T14:21:50.692980Z",
     "start_time": "2023-10-19T14:21:50.640250Z"
    }
   },
   "id": "8686530f7bd73e12"
  },
  {
   "cell_type": "code",
   "execution_count": 5,
   "outputs": [
    {
     "data": {
      "text/plain": "        AGE  SMOKING  YELLOW_FINGERS  ANXIETY  PEER_PRESSURE  CHRONIC DISEASE  \\\nGENDER                                                                          \nM        69        1               2        2              1                1   \nM        74        2               1        1              1                2   \nF        59        1               1        1              2                1   \nM        63        2               2        2              1                1   \nF        63        1               2        1              1                1   \n\n        FATIGUE   ALLERGY   WHEEZING  ALCOHOL CONSUMING  COUGHING  \\\nGENDER                                                              \nM              2         1         2                  2         2   \nM              2         2         1                  1         1   \nF              2         1         2                  1         2   \nM              1         1         1                  2         1   \nF              1         1         2                  1         2   \n\n        SHORTNESS OF BREATH  SWALLOWING DIFFICULTY  CHEST PAIN LUNG_CANCER  \nGENDER                                                                      \nM                         2                      2           2         YES  \nM                         2                      2           2         YES  \nF                         2                      1           2          NO  \nM                         1                      2           2          NO  \nF                         2                      1           1          NO  ",
      "text/html": "<div>\n<style scoped>\n    .dataframe tbody tr th:only-of-type {\n        vertical-align: middle;\n    }\n\n    .dataframe tbody tr th {\n        vertical-align: top;\n    }\n\n    .dataframe thead th {\n        text-align: right;\n    }\n</style>\n<table border=\"1\" class=\"dataframe\">\n  <thead>\n    <tr style=\"text-align: right;\">\n      <th></th>\n      <th>AGE</th>\n      <th>SMOKING</th>\n      <th>YELLOW_FINGERS</th>\n      <th>ANXIETY</th>\n      <th>PEER_PRESSURE</th>\n      <th>CHRONIC DISEASE</th>\n      <th>FATIGUE</th>\n      <th>ALLERGY</th>\n      <th>WHEEZING</th>\n      <th>ALCOHOL CONSUMING</th>\n      <th>COUGHING</th>\n      <th>SHORTNESS OF BREATH</th>\n      <th>SWALLOWING DIFFICULTY</th>\n      <th>CHEST PAIN</th>\n      <th>LUNG_CANCER</th>\n    </tr>\n    <tr>\n      <th>GENDER</th>\n      <th></th>\n      <th></th>\n      <th></th>\n      <th></th>\n      <th></th>\n      <th></th>\n      <th></th>\n      <th></th>\n      <th></th>\n      <th></th>\n      <th></th>\n      <th></th>\n      <th></th>\n      <th></th>\n      <th></th>\n    </tr>\n  </thead>\n  <tbody>\n    <tr>\n      <th>M</th>\n      <td>69</td>\n      <td>1</td>\n      <td>2</td>\n      <td>2</td>\n      <td>1</td>\n      <td>1</td>\n      <td>2</td>\n      <td>1</td>\n      <td>2</td>\n      <td>2</td>\n      <td>2</td>\n      <td>2</td>\n      <td>2</td>\n      <td>2</td>\n      <td>YES</td>\n    </tr>\n    <tr>\n      <th>M</th>\n      <td>74</td>\n      <td>2</td>\n      <td>1</td>\n      <td>1</td>\n      <td>1</td>\n      <td>2</td>\n      <td>2</td>\n      <td>2</td>\n      <td>1</td>\n      <td>1</td>\n      <td>1</td>\n      <td>2</td>\n      <td>2</td>\n      <td>2</td>\n      <td>YES</td>\n    </tr>\n    <tr>\n      <th>F</th>\n      <td>59</td>\n      <td>1</td>\n      <td>1</td>\n      <td>1</td>\n      <td>2</td>\n      <td>1</td>\n      <td>2</td>\n      <td>1</td>\n      <td>2</td>\n      <td>1</td>\n      <td>2</td>\n      <td>2</td>\n      <td>1</td>\n      <td>2</td>\n      <td>NO</td>\n    </tr>\n    <tr>\n      <th>M</th>\n      <td>63</td>\n      <td>2</td>\n      <td>2</td>\n      <td>2</td>\n      <td>1</td>\n      <td>1</td>\n      <td>1</td>\n      <td>1</td>\n      <td>1</td>\n      <td>2</td>\n      <td>1</td>\n      <td>1</td>\n      <td>2</td>\n      <td>2</td>\n      <td>NO</td>\n    </tr>\n    <tr>\n      <th>F</th>\n      <td>63</td>\n      <td>1</td>\n      <td>2</td>\n      <td>1</td>\n      <td>1</td>\n      <td>1</td>\n      <td>1</td>\n      <td>1</td>\n      <td>2</td>\n      <td>1</td>\n      <td>2</td>\n      <td>2</td>\n      <td>1</td>\n      <td>1</td>\n      <td>NO</td>\n    </tr>\n  </tbody>\n</table>\n</div>"
     },
     "execution_count": 5,
     "metadata": {},
     "output_type": "execute_result"
    }
   ],
   "source": [
    "df.head()"
   ],
   "metadata": {
    "collapsed": false,
    "ExecuteTime": {
     "end_time": "2023-10-19T14:21:56.851682Z",
     "start_time": "2023-10-19T14:21:56.800493Z"
    }
   },
   "id": "4aefa8f913094e1f"
  },
  {
   "cell_type": "code",
   "execution_count": null,
   "outputs": [],
   "source": [
    "# Group by age\n",
    "\n"
   ],
   "metadata": {
    "collapsed": false
   },
   "id": "75605d97aac74af1"
  },
  {
   "cell_type": "code",
   "execution_count": null,
   "outputs": [],
   "source": [
    "# Look at symptoms (coughing, shortness of breath) by alcohol and smoking - Vice Penalty\n",
    "\n",
    "\n"
   ],
   "metadata": {
    "collapsed": false
   },
   "id": "b2fe9508961cb9d6"
  },
  {
   "cell_type": "code",
   "execution_count": null,
   "outputs": [],
   "source": [],
   "metadata": {
    "collapsed": false
   },
   "id": "b0014137091fb47"
  }
 ],
 "metadata": {
  "kernelspec": {
   "display_name": "Python 3",
   "language": "python",
   "name": "python3"
  },
  "language_info": {
   "codemirror_mode": {
    "name": "ipython",
    "version": 2
   },
   "file_extension": ".py",
   "mimetype": "text/x-python",
   "name": "python",
   "nbconvert_exporter": "python",
   "pygments_lexer": "ipython2",
   "version": "2.7.6"
  }
 },
 "nbformat": 4,
 "nbformat_minor": 5
}
