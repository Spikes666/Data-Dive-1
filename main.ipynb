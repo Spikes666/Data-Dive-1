{
 "cells": [
  {
   "cell_type": "code",
   "execution_count": 1,
   "id": "initial_id",
   "metadata": {
    "collapsed": true,
    "ExecuteTime": {
     "end_time": "2023-10-19T14:19:28.517541Z",
     "start_time": "2023-10-19T14:19:26.572532Z"
    }
   },
   "outputs": [],
   "source": [
    "import pandas as pd\n",
    "import seaborn as sns\n",
    "import matplotlib.pyplot as plt\n",
    "plt.style.use('fivethirtyeight')\n",
    "%matplotlib inline\n",
    "\n",
    "from sklearn.model_selection import train_test_split\n",
    "from sklearn.preprocessing import StandardScaler\n",
    "\n",
    "pd.set_option('display.max_columns',200) #allows for up to 500 columns to be displayed when viewing a dataframe\n",
    "pd.set_option('display.max_rows',100)\n",
    "plt.style.use('ggplot') # a style that can be used for plots - see style reference above\n",
    "\n",
    "import warnings\n",
    "warnings.filterwarnings(\"ignore\", category=DeprecationWarning)\n",
    "\n",
    "\n",
    "from sklearn.metrics import mean_squared_error, mean_absolute_error, mean_absolute_percentage_error, r2_score\n",
    "import numpy as np\n",
    "from sklearn.linear_model import Lasso\n",
    "from sklearn.linear_model import Ridge\n",
    "from sklearn.model_selection import GridSearchCV\n",
    "import matplotlib.pyplot as plt\n",
    "import os\n",
    "\n"
   ]
  },
  {
   "cell_type": "code",
   "execution_count": 2,
   "outputs": [
    {
     "data": {
      "text/plain": "'/Users/nicksartino/Code/Data-Dive-1'"
     },
     "execution_count": 2,
     "metadata": {},
     "output_type": "execute_result"
    }
   ],
   "source": [
    "os.getcwd()"
   ],
   "metadata": {
    "collapsed": false,
    "ExecuteTime": {
     "end_time": "2023-10-19T14:19:30.480205Z",
     "start_time": "2023-10-19T14:19:30.461179Z"
    }
   },
   "id": "bb44570b7e112bee"
  },
  {
   "cell_type": "code",
   "execution_count": 3,
   "outputs": [
    {
     "name": "stdout",
     "output_type": "stream",
     "text": [
      "<class 'pandas.core.frame.DataFrame'>\n",
      "Index: 309 entries, M to M\n",
      "Data columns (total 15 columns):\n",
      " #   Column                 Non-Null Count  Dtype \n",
      "---  ------                 --------------  ----- \n",
      " 0   AGE                    309 non-null    int64 \n",
      " 1   SMOKING                309 non-null    int64 \n",
      " 2   YELLOW_FINGERS         309 non-null    int64 \n",
      " 3   ANXIETY                309 non-null    int64 \n",
      " 4   PEER_PRESSURE          309 non-null    int64 \n",
      " 5   CHRONIC DISEASE        309 non-null    int64 \n",
      " 6   FATIGUE                309 non-null    int64 \n",
      " 7   ALLERGY                309 non-null    int64 \n",
      " 8   WHEEZING               309 non-null    int64 \n",
      " 9   ALCOHOL CONSUMING      309 non-null    int64 \n",
      " 10  COUGHING               309 non-null    int64 \n",
      " 11  SHORTNESS OF BREATH    309 non-null    int64 \n",
      " 12  SWALLOWING DIFFICULTY  309 non-null    int64 \n",
      " 13  CHEST PAIN             309 non-null    int64 \n",
      " 14  LUNG_CANCER            309 non-null    object\n",
      "dtypes: int64(14), object(1)\n",
      "memory usage: 38.6+ KB\n"
     ]
    }
   ],
   "source": [
    "df = pd.read_csv('survey lung cancer.csv', index_col=[0])\n",
    "df.info()"
   ],
   "metadata": {
    "collapsed": false,
    "ExecuteTime": {
     "end_time": "2023-10-19T14:19:33.111851Z",
     "start_time": "2023-10-19T14:19:33.087141Z"
    }
   },
   "id": "9d9692c646b157f2"
  },
  {
   "cell_type": "code",
   "execution_count": null,
   "outputs": [],
   "source": [],
   "metadata": {
    "collapsed": false
   },
   "id": "8686530f7bd73e12"
  }
 ],
 "metadata": {
  "kernelspec": {
   "display_name": "Python 3",
   "language": "python",
   "name": "python3"
  },
  "language_info": {
   "codemirror_mode": {
    "name": "ipython",
    "version": 2
   },
   "file_extension": ".py",
   "mimetype": "text/x-python",
   "name": "python",
   "nbconvert_exporter": "python",
   "pygments_lexer": "ipython2",
   "version": "2.7.6"
  }
 },
 "nbformat": 4,
 "nbformat_minor": 5
}
